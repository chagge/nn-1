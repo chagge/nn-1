{
 "metadata": {
  "name": "",
  "signature": "sha256:02c8e2a20fcd700441bd9f927ca57122c11a14388910c76370c7fe10dca762e1"
 },
 "nbformat": 3,
 "nbformat_minor": 0,
 "worksheets": [
  {
   "cells": [
    {
     "cell_type": "code",
     "collapsed": false,
     "input": [
      "from sklearn import preprocessing\n",
      "import rnn\n",
      "import cudamat as cm\n",
      "import numpy as np\n",
      "import timeit"
     ],
     "language": "python",
     "metadata": {},
     "outputs": [],
     "prompt_number": 31
    },
    {
     "cell_type": "code",
     "collapsed": false,
     "input": [
      "### Data ####"
     ],
     "language": "python",
     "metadata": {},
     "outputs": [],
     "prompt_number": 2
    },
    {
     "cell_type": "code",
     "collapsed": false,
     "input": [
      "ds = []\n",
      "with open('./siddhartha.txt') as doc:\n",
      "    text = list(doc.read())\n",
      "enc = preprocessing.LabelBinarizer()\n",
      "enc.fit(text)\n",
      "n_tokens = enc.classes_.shape[0]\n",
      "for x in range(len(text)-1):\n",
      "    i = cm.CUDAMatrix(enc.transform([text[x]]))\n",
      "    t = cm.CUDAMatrix(enc.transform([text[x+1]]))\n",
      "    ds.append([i,t])\n",
      "ds = np.array([ds])"
     ],
     "language": "python",
     "metadata": {},
     "outputs": [],
     "prompt_number": 29
    },
    {
     "cell_type": "code",
     "collapsed": false,
     "input": [
      "net = rnn.rnn([n_tokens,800,n_tokens])"
     ],
     "language": "python",
     "metadata": {},
     "outputs": [],
     "prompt_number": 30
    },
    {
     "cell_type": "code",
     "collapsed": false,
     "input": [
      "start = timeit.timeit()\n",
      "net.train(ds,200)\n",
      "end = timeit.timeit()"
     ],
     "language": "python",
     "metadata": {},
     "outputs": []
    },
    {
     "cell_type": "code",
     "collapsed": false,
     "input": [
      "y = net.forward(ds[0][0][1])\n",
      "seq = [y]\n",
      "for x in range(10):\n",
      "    seq.append(net.forward(seq[-1]))"
     ],
     "language": "python",
     "metadata": {},
     "outputs": [],
     "prompt_number": 24
    },
    {
     "cell_type": "code",
     "collapsed": false,
     "input": [
      "sent = []\n",
      "for x in seq:\n",
      "    sent.append(enc.inverse_transform(x.asarray()))"
     ],
     "language": "python",
     "metadata": {},
     "outputs": [],
     "prompt_number": 25
    },
    {
     "cell_type": "code",
     "collapsed": false,
     "input": [
      "sent"
     ],
     "language": "python",
     "metadata": {},
     "outputs": [
      {
       "metadata": {},
       "output_type": "pyout",
       "prompt_number": 26,
       "text": [
        "[array([' '], \n",
        "       dtype='|S1'), array([' '], \n",
        "       dtype='|S1'), array([' '], \n",
        "       dtype='|S1'), array([' '], \n",
        "       dtype='|S1'), array([' '], \n",
        "       dtype='|S1'), array([' '], \n",
        "       dtype='|S1'), array([' '], \n",
        "       dtype='|S1'), array([' '], \n",
        "       dtype='|S1'), array([' '], \n",
        "       dtype='|S1'), array([' '], \n",
        "       dtype='|S1'), array([' '], \n",
        "       dtype='|S1')]"
       ]
      }
     ],
     "prompt_number": 26
    },
    {
     "cell_type": "code",
     "collapsed": false,
     "input": [
      "net.forget()"
     ],
     "language": "python",
     "metadata": {},
     "outputs": [],
     "prompt_number": 27
    },
    {
     "cell_type": "code",
     "collapsed": false,
     "input": [],
     "language": "python",
     "metadata": {},
     "outputs": []
    }
   ],
   "metadata": {}
  }
 ]
}